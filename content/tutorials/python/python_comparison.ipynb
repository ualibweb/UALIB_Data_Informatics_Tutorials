{
 "cells": [
  {
   "cell_type": "markdown",
   "id": "b7955985-98aa-48a0-91f2-5e99a9e7b27c",
   "metadata": {},
   "source": [
    "# ...in Python"
   ]
  },
  {
   "cell_type": "markdown",
   "id": "e1509f3a-9367-4cda-9d45-540b5b127e56",
   "metadata": {},
   "source": [
    "## Comparing Data in Python\n",
    "\n",
    "by Anastasia Ramig\n",
    "\n",
    "These recipe examples were tested on January 24, 2022."
   ]
  },
  {
   "cell_type": "markdown",
   "id": "7a7296fd-abaf-4267-9369-dacfc7d10f6d",
   "metadata": {},
   "source": [
    "## 1. Difference between datasets"
   ]
  },
  {
   "cell_type": "markdown",
   "id": "72ac591b-51ab-49da-bfdb-1a9ae2334241",
   "metadata": {},
   "source": [
    "Python includes the [difflib](https://docs.python.org/3/library/difflib.html) library for computing deltas. This can be used for comparing differences in files, for example.\n",
    "\n",
    "We're going to use the `WeiningerCEX_132_reading_smilesvalence.txt` and `avalon_1.2.0_reading_smilesvalence.txt` files to demonstrate some of the difflib functions. You can find these files [here](https://github.com/ualibweb/UALIB_Workshops/tree/master/02_Unix_fall_2020/Udata/Benchmark)."
   ]
  },
  {
   "cell_type": "markdown",
   "id": "54800166-36c6-4d6d-9e32-9fd9b8dd4ab0",
   "metadata": {},
   "source": [
    "### Import libraries"
   ]
  },
  {
   "cell_type": "code",
   "execution_count": 17,
   "id": "b61f6a4f-7cb7-4836-bd20-a0db79052f09",
   "metadata": {},
   "outputs": [],
   "source": [
    "import difflib"
   ]
  },
  {
   "cell_type": "markdown",
   "id": "b0b34297-079f-42d3-8161-47d767964e67",
   "metadata": {},
   "source": [
    "### Context diff"
   ]
  },
  {
   "cell_type": "markdown",
   "id": "24466776-9d33-4c6b-a616-eb01956c678a",
   "metadata": {},
   "source": [
    "Print the context_diff between files"
   ]
  },
  {
   "cell_type": "code",
   "execution_count": 18,
   "id": "a427486e-9725-4b8c-8cd3-7a8323f43b2d",
   "metadata": {},
   "outputs": [
    {
     "name": "stdout",
     "output_type": "stream",
     "text": [
      "*** \n",
      " --- \n",
      " ***************\n",
      " *** 43,61 ****\n",
      "   F5 0 3 3 3 3 3\n",
      "   Cl0 1\n",
      "   Cl1 0 3\n",
      " ! Cl2 0 3 3\n",
      "   Cl3 0 3 3 3\n",
      " ! Cl4 0 3 3 3 3\n",
      "   Cl5 0 3 3 3 3 3\n",
      "   Br0 1\n",
      "   Br1 0 3\n",
      " ! Br2 0 3 3\n",
      "   Br3 0 3 3 3\n",
      " ! Br4 0 3 3 3 3\n",
      "   Br5 0 3 3 3 3 3\n",
      "   I0 1\n",
      "   I1 0 3\n",
      " ! I2 0 3 3\n",
      "   I3 0 3 3 3\n",
      " ! I4 0 3 3 3 3\n",
      "   I5 0 3 3 3 3 3\n",
      " --- 43,61 ----\n",
      "   F5 0 3 3 3 3 3\n",
      "   Cl0 1\n",
      "   Cl1 0 3\n",
      " ! Cl2 1 3 3\n",
      "   Cl3 0 3 3 3\n",
      " ! Cl4 1 3 3 3 3\n",
      "   Cl5 0 3 3 3 3 3\n",
      "   Br0 1\n",
      "   Br1 0 3\n",
      " ! Br2 1 3 3\n",
      "   Br3 0 3 3 3\n",
      " ! Br4 1 3 3 3 3\n",
      "   Br5 0 3 3 3 3 3\n",
      "   I0 1\n",
      "   I1 0 3\n",
      " ! I2 1 3 3\n",
      "   I3 0 3 3 3\n",
      " ! I4 1 3 3 3 3\n",
      "   I5 0 3 3 3 3 3\n"
     ]
    }
   ],
   "source": [
    "file1 = open(r'WeiningerCEX_132_reading_smilesvalence.txt').readlines()\n",
    "file2 = open(r'avalon_1.2.0_reading_smilesvalence.txt').readlines()\n",
    "cdiff = difflib.context_diff(file1, file2)\n",
    "print(' '.join(cdiff), end=\"\")"
   ]
  },
  {
   "cell_type": "markdown",
   "id": "bd889f63-48a8-4110-babb-5a9ba2cc8dce",
   "metadata": {},
   "source": [
    "### Unified diff"
   ]
  },
  {
   "cell_type": "markdown",
   "id": "92080fa4-8fab-40b2-a481-337805f63bde",
   "metadata": {},
   "source": [
    "Print the unified_diff between files"
   ]
  },
  {
   "cell_type": "code",
   "execution_count": 19,
   "id": "082ec33c-4068-4614-89b3-e19e51c0ba07",
   "metadata": {},
   "outputs": [
    {
     "name": "stdout",
     "output_type": "stream",
     "text": [
      "--- \n",
      " +++ \n",
      " @@ -43,19 +43,19 @@\n",
      "  F5 0 3 3 3 3 3\n",
      "  Cl0 1\n",
      "  Cl1 0 3\n",
      " -Cl2 0 3 3\n",
      " +Cl2 1 3 3\n",
      "  Cl3 0 3 3 3\n",
      " -Cl4 0 3 3 3 3\n",
      " +Cl4 1 3 3 3 3\n",
      "  Cl5 0 3 3 3 3 3\n",
      "  Br0 1\n",
      "  Br1 0 3\n",
      " -Br2 0 3 3\n",
      " +Br2 1 3 3\n",
      "  Br3 0 3 3 3\n",
      " -Br4 0 3 3 3 3\n",
      " +Br4 1 3 3 3 3\n",
      "  Br5 0 3 3 3 3 3\n",
      "  I0 1\n",
      "  I1 0 3\n",
      " -I2 0 3 3\n",
      " +I2 1 3 3\n",
      "  I3 0 3 3 3\n",
      " -I4 0 3 3 3 3\n",
      " +I4 1 3 3 3 3\n",
      "  I5 0 3 3 3 3 3\n"
     ]
    }
   ],
   "source": [
    "file1 = open(r'WeiningerCEX_132_reading_smilesvalence.txt').readlines()\n",
    "file2 = open(r'avalon_1.2.0_reading_smilesvalence.txt').readlines()\n",
    "udiff = difflib.unified_diff(file1, file2)\n",
    "print(' '.join(udiff), end=\"\")"
   ]
  },
  {
   "cell_type": "markdown",
   "id": "553947e7-2239-446f-a57e-6ca0d2c198f4",
   "metadata": {},
   "source": [
    "### Side by Side HTML diff"
   ]
  },
  {
   "cell_type": "markdown",
   "id": "b92a19e1-efc0-449a-93c3-bd562556207d",
   "metadata": {},
   "source": [
    "The `difflib.HTMLDiff` class can be used to generate an HTML formatted side by side comparison of the files which can be displayed directly within a Jupyter Notebook. Here is a recipe below. Note that the output is not shown here."
   ]
  },
  {
   "cell_type": "code",
   "execution_count": null,
   "id": "38859ace-0e49-432a-a9ae-64f34fcdc540",
   "metadata": {},
   "outputs": [],
   "source": [
    "import difflib\n",
    "from IPython import display\n",
    "file1 = open(r'WeiningerCEX_132_reading_smilesvalence.txt').readlines()\n",
    "file2 = open(r'avalon_1.2.0_reading_smilesvalence.txt').readlines()\n",
    "\n",
    "sbs_diff = difflib.HtmlDiff(tabsize=2)\n",
    "with open(\"sbs_diff_table.html\", \"w\") as outfile:\n",
    "    html = sbs_diff.make_file(fromlines=file1, tolines=file2, \n",
    "                                fromdesc='WeiningerCEX_132_reading_smilesvalence', todesc='avalon_1.2.0_reading_smilesvalence')\n",
    "    outfile.write(html)\n",
    "display.HTML(open('sbs_diff_table.html', 'r').read())"
   ]
  }
 ],
 "metadata": {
  "kernelspec": {
   "display_name": "Python 3 (ipykernel)",
   "language": "python",
   "name": "python3"
  },
  "language_info": {
   "codemirror_mode": {
    "name": "ipython",
    "version": 3
   },
   "file_extension": ".py",
   "mimetype": "text/x-python",
   "name": "python",
   "nbconvert_exporter": "python",
   "pygments_lexer": "ipython3",
   "version": "3.9.7"
  }
 },
 "nbformat": 4,
 "nbformat_minor": 5
}
