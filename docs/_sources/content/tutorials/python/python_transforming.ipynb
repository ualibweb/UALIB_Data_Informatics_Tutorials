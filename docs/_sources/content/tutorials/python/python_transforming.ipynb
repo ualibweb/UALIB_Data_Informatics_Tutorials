{
 "cells": [
  {
   "cell_type": "markdown",
   "id": "b7955985-98aa-48a0-91f2-5e99a9e7b27c",
   "metadata": {},
   "source": [
    "# ...in Python"
   ]
  },
  {
   "cell_type": "markdown",
   "id": "e1509f3a-9367-4cda-9d45-540b5b127e56",
   "metadata": {},
   "source": [
    "## Transforming Data in Python\n",
    "by Anastasia Ramig\n",
    "\n",
    "These recipe examples were tested on January 24, 2022."
   ]
  },
  {
   "cell_type": "markdown",
   "id": "efaf37c4-f1a6-4faf-901c-42e86b7e554a",
   "metadata": {},
   "source": [
    "## 1. JSON data to Pandas DataFrane"
   ]
  },
  {
   "cell_type": "markdown",
   "id": "46c0e175-848d-4af8-8f94-c4e69f031713",
   "metadata": {},
   "source": [
    "The [pandas library](https://pandas.pydata.org/) makes it easier to work with data in Python. There are many types of data that can be loaded into pandas. This tutorial is going to show how to parse JSON data (a common data type used for scholarly web APIs) into a pandas DataFrame. We're going to use a sample dataset from [PubChem](https://pubchemdocs.ncbi.nlm.nih.gov/pug-rest) that can be found using this [link](https://pubchem.ncbi.nlm.nih.gov/rest/pug/compound/cid/1,2,3,4,5/property/IUPACName,MolecularFormula,MolecularWeight,InChIKey/JSON). Copy the data and save it to a json file, named `molecular_data.json`. "
   ]
  },
  {
   "cell_type": "markdown",
   "id": "0b864f0f-dd23-4ab8-a46a-ca161982a881",
   "metadata": {},
   "source": [
    "### Import libraries"
   ]
  },
  {
   "cell_type": "code",
   "execution_count": 1,
   "id": "243b5e29-406f-4984-aefc-598d611196fe",
   "metadata": {},
   "outputs": [],
   "source": [
    "import pandas as pd\n",
    "import json\n",
    "from pandas.io.json import json_normalize"
   ]
  },
  {
   "cell_type": "markdown",
   "id": "cdc30e29-d7bb-444b-9798-8a9753e104a8",
   "metadata": {},
   "source": [
    "To parse JSON data into pandas, we read the data into a Python dictionary, as shown below. "
   ]
  },
  {
   "cell_type": "markdown",
   "id": "69e745de-cb0e-49ee-b643-c4f8c8123db0",
   "metadata": {},
   "source": [
    "### Read JSON data"
   ]
  },
  {
   "cell_type": "code",
   "execution_count": 2,
   "id": "95ac498e-2e64-4e99-8ed6-3563bb50a27b",
   "metadata": {},
   "outputs": [
    {
     "data": {
      "text/plain": [
       "{'PropertyTable': {'Properties': [{'CID': 1,\n",
       "    'MolecularFormula': 'C9H17NO4',\n",
       "    'MolecularWeight': '203.24',\n",
       "    'InChIKey': 'RDHQFKQIGNGIED-UHFFFAOYSA-N',\n",
       "    'IUPACName': '3-acetyloxy-4-(trimethylazaniumyl)butanoate'},\n",
       "   {'CID': 2,\n",
       "    'MolecularFormula': 'C9H18NO4+',\n",
       "    'MolecularWeight': '204.24',\n",
       "    'InChIKey': 'RDHQFKQIGNGIED-UHFFFAOYSA-O',\n",
       "    'IUPACName': '(2-acetyloxy-3-carboxypropyl)-trimethylazanium'},\n",
       "   {'CID': 3,\n",
       "    'MolecularFormula': 'C7H8O4',\n",
       "    'MolecularWeight': '156.14',\n",
       "    'InChIKey': 'INCSWYKICIYAHB-UHFFFAOYSA-N',\n",
       "    'IUPACName': '5,6-dihydroxycyclohexa-1,3-diene-1-carboxylic acid'},\n",
       "   {'CID': 4,\n",
       "    'MolecularFormula': 'C3H9NO',\n",
       "    'MolecularWeight': '75.11',\n",
       "    'InChIKey': 'HXKKHQJGJAFBHI-UHFFFAOYSA-N',\n",
       "    'IUPACName': '1-aminopropan-2-ol'},\n",
       "   {'CID': 5,\n",
       "    'MolecularFormula': 'C3H8NO5P',\n",
       "    'MolecularWeight': '169.07',\n",
       "    'InChIKey': 'HIQNVODXENYOFK-UHFFFAOYSA-N',\n",
       "    'IUPACName': '(3-amino-2-oxopropyl) dihydrogen phosphate'}]}}"
      ]
     },
     "execution_count": 2,
     "metadata": {},
     "output_type": "execute_result"
    }
   ],
   "source": [
    "with open('molecular_data.json', 'r') as infile:\n",
    "    data = json.loads(infile.read())\n",
    "data"
   ]
  },
  {
   "cell_type": "markdown",
   "id": "77670e7d-dd9b-41cd-ae67-016ab0463d9a",
   "metadata": {},
   "source": [
    "As you can see from the displayed data above, our dictionary contains nested dictionaries, which means that if we try to create a DataFrame, we will get a single value that consists of our nested dictionaries:"
   ]
  },
  {
   "cell_type": "markdown",
   "id": "c8f5314a-70c6-4008-9157-8cb31525d0af",
   "metadata": {},
   "source": [
    "### Create a DataFrame"
   ]
  },
  {
   "cell_type": "code",
   "execution_count": 3,
   "id": "28c31c22-e2d7-4081-85d1-a594a908bfeb",
   "metadata": {},
   "outputs": [
    {
     "data": {
      "text/html": [
       "<div>\n",
       "<style scoped>\n",
       "    .dataframe tbody tr th:only-of-type {\n",
       "        vertical-align: middle;\n",
       "    }\n",
       "\n",
       "    .dataframe tbody tr th {\n",
       "        vertical-align: top;\n",
       "    }\n",
       "\n",
       "    .dataframe thead th {\n",
       "        text-align: right;\n",
       "    }\n",
       "</style>\n",
       "<table border=\"1\" class=\"dataframe\">\n",
       "  <thead>\n",
       "    <tr style=\"text-align: right;\">\n",
       "      <th></th>\n",
       "      <th>PropertyTable</th>\n",
       "    </tr>\n",
       "  </thead>\n",
       "  <tbody>\n",
       "    <tr>\n",
       "      <th>Properties</th>\n",
       "      <td>[{'CID': 1, 'MolecularFormula': 'C9H17NO4', 'M...</td>\n",
       "    </tr>\n",
       "  </tbody>\n",
       "</table>\n",
       "</div>"
      ],
      "text/plain": [
       "                                                PropertyTable\n",
       "Properties  [{'CID': 1, 'MolecularFormula': 'C9H17NO4', 'M..."
      ]
     },
     "execution_count": 3,
     "metadata": {},
     "output_type": "execute_result"
    }
   ],
   "source": [
    "df = pd.DataFrame(data)\n",
    "df"
   ]
  },
  {
   "cell_type": "markdown",
   "id": "13f8f0bf-1dbe-4efe-a2e3-50f781ae10b4",
   "metadata": {},
   "source": [
    "To unpack this into a DataFrame with pandas, we first index into the DataFrame."
   ]
  },
  {
   "cell_type": "markdown",
   "id": "92585ed1-2194-4f73-a3ef-2993ea1ac84f",
   "metadata": {},
   "source": [
    "### Index nested data"
   ]
  },
  {
   "cell_type": "code",
   "execution_count": 4,
   "id": "57961e8c-7654-473f-b7ba-247fe7f0266e",
   "metadata": {},
   "outputs": [
    {
     "data": {
      "text/plain": [
       "[{'CID': 1,\n",
       "  'MolecularFormula': 'C9H17NO4',\n",
       "  'MolecularWeight': '203.24',\n",
       "  'InChIKey': 'RDHQFKQIGNGIED-UHFFFAOYSA-N',\n",
       "  'IUPACName': '3-acetyloxy-4-(trimethylazaniumyl)butanoate'},\n",
       " {'CID': 2,\n",
       "  'MolecularFormula': 'C9H18NO4+',\n",
       "  'MolecularWeight': '204.24',\n",
       "  'InChIKey': 'RDHQFKQIGNGIED-UHFFFAOYSA-O',\n",
       "  'IUPACName': '(2-acetyloxy-3-carboxypropyl)-trimethylazanium'},\n",
       " {'CID': 3,\n",
       "  'MolecularFormula': 'C7H8O4',\n",
       "  'MolecularWeight': '156.14',\n",
       "  'InChIKey': 'INCSWYKICIYAHB-UHFFFAOYSA-N',\n",
       "  'IUPACName': '5,6-dihydroxycyclohexa-1,3-diene-1-carboxylic acid'},\n",
       " {'CID': 4,\n",
       "  'MolecularFormula': 'C3H9NO',\n",
       "  'MolecularWeight': '75.11',\n",
       "  'InChIKey': 'HXKKHQJGJAFBHI-UHFFFAOYSA-N',\n",
       "  'IUPACName': '1-aminopropan-2-ol'},\n",
       " {'CID': 5,\n",
       "  'MolecularFormula': 'C3H8NO5P',\n",
       "  'MolecularWeight': '169.07',\n",
       "  'InChIKey': 'HIQNVODXENYOFK-UHFFFAOYSA-N',\n",
       "  'IUPACName': '(3-amino-2-oxopropyl) dihydrogen phosphate'}]"
      ]
     },
     "execution_count": 4,
     "metadata": {},
     "output_type": "execute_result"
    }
   ],
   "source": [
    "data2 = df.iloc[0,0]\n",
    "data2"
   ]
  },
  {
   "cell_type": "markdown",
   "id": "b84a262b-d2b4-4552-8c58-f29d1db8b1e7",
   "metadata": {},
   "source": [
    "### Normalize"
   ]
  },
  {
   "cell_type": "code",
   "execution_count": 5,
   "id": "04565ace-4e21-421a-ba55-15983260f931",
   "metadata": {},
   "outputs": [
    {
     "data": {
      "text/html": [
       "<div>\n",
       "<style scoped>\n",
       "    .dataframe tbody tr th:only-of-type {\n",
       "        vertical-align: middle;\n",
       "    }\n",
       "\n",
       "    .dataframe tbody tr th {\n",
       "        vertical-align: top;\n",
       "    }\n",
       "\n",
       "    .dataframe thead th {\n",
       "        text-align: right;\n",
       "    }\n",
       "</style>\n",
       "<table border=\"1\" class=\"dataframe\">\n",
       "  <thead>\n",
       "    <tr style=\"text-align: right;\">\n",
       "      <th></th>\n",
       "      <th>CID</th>\n",
       "      <th>MolecularFormula</th>\n",
       "      <th>MolecularWeight</th>\n",
       "      <th>InChIKey</th>\n",
       "      <th>IUPACName</th>\n",
       "    </tr>\n",
       "  </thead>\n",
       "  <tbody>\n",
       "    <tr>\n",
       "      <th>0</th>\n",
       "      <td>1</td>\n",
       "      <td>C9H17NO4</td>\n",
       "      <td>203.24</td>\n",
       "      <td>RDHQFKQIGNGIED-UHFFFAOYSA-N</td>\n",
       "      <td>3-acetyloxy-4-(trimethylazaniumyl)butanoate</td>\n",
       "    </tr>\n",
       "    <tr>\n",
       "      <th>1</th>\n",
       "      <td>2</td>\n",
       "      <td>C9H18NO4+</td>\n",
       "      <td>204.24</td>\n",
       "      <td>RDHQFKQIGNGIED-UHFFFAOYSA-O</td>\n",
       "      <td>(2-acetyloxy-3-carboxypropyl)-trimethylazanium</td>\n",
       "    </tr>\n",
       "    <tr>\n",
       "      <th>2</th>\n",
       "      <td>3</td>\n",
       "      <td>C7H8O4</td>\n",
       "      <td>156.14</td>\n",
       "      <td>INCSWYKICIYAHB-UHFFFAOYSA-N</td>\n",
       "      <td>5,6-dihydroxycyclohexa-1,3-diene-1-carboxylic ...</td>\n",
       "    </tr>\n",
       "    <tr>\n",
       "      <th>3</th>\n",
       "      <td>4</td>\n",
       "      <td>C3H9NO</td>\n",
       "      <td>75.11</td>\n",
       "      <td>HXKKHQJGJAFBHI-UHFFFAOYSA-N</td>\n",
       "      <td>1-aminopropan-2-ol</td>\n",
       "    </tr>\n",
       "    <tr>\n",
       "      <th>4</th>\n",
       "      <td>5</td>\n",
       "      <td>C3H8NO5P</td>\n",
       "      <td>169.07</td>\n",
       "      <td>HIQNVODXENYOFK-UHFFFAOYSA-N</td>\n",
       "      <td>(3-amino-2-oxopropyl) dihydrogen phosphate</td>\n",
       "    </tr>\n",
       "  </tbody>\n",
       "</table>\n",
       "</div>"
      ],
      "text/plain": [
       "   CID MolecularFormula MolecularWeight                     InChIKey  \\\n",
       "0    1         C9H17NO4          203.24  RDHQFKQIGNGIED-UHFFFAOYSA-N   \n",
       "1    2        C9H18NO4+          204.24  RDHQFKQIGNGIED-UHFFFAOYSA-O   \n",
       "2    3           C7H8O4          156.14  INCSWYKICIYAHB-UHFFFAOYSA-N   \n",
       "3    4           C3H9NO           75.11  HXKKHQJGJAFBHI-UHFFFAOYSA-N   \n",
       "4    5         C3H8NO5P          169.07  HIQNVODXENYOFK-UHFFFAOYSA-N   \n",
       "\n",
       "                                           IUPACName  \n",
       "0        3-acetyloxy-4-(trimethylazaniumyl)butanoate  \n",
       "1     (2-acetyloxy-3-carboxypropyl)-trimethylazanium  \n",
       "2  5,6-dihydroxycyclohexa-1,3-diene-1-carboxylic ...  \n",
       "3                                 1-aminopropan-2-ol  \n",
       "4         (3-amino-2-oxopropyl) dihydrogen phosphate  "
      ]
     },
     "execution_count": 5,
     "metadata": {},
     "output_type": "execute_result"
    }
   ],
   "source": [
    "# use json_normalize() to unpack the nested dictionaries into a flat table DataFrame\n",
    "mol_data = pd.json_normalize(data2)\n",
    "mol_data"
   ]
  },
  {
   "cell_type": "markdown",
   "id": "93f07206-1af7-43bb-9207-d6e9b59bebb2",
   "metadata": {},
   "source": [
    "### Transpose"
   ]
  },
  {
   "cell_type": "code",
   "execution_count": 7,
   "id": "629f8729-d954-4cb3-9fa1-c4fbadc6c6e6",
   "metadata": {},
   "outputs": [
    {
     "data": {
      "text/html": [
       "<div>\n",
       "<style scoped>\n",
       "    .dataframe tbody tr th:only-of-type {\n",
       "        vertical-align: middle;\n",
       "    }\n",
       "\n",
       "    .dataframe tbody tr th {\n",
       "        vertical-align: top;\n",
       "    }\n",
       "\n",
       "    .dataframe thead th {\n",
       "        text-align: right;\n",
       "    }\n",
       "</style>\n",
       "<table border=\"1\" class=\"dataframe\">\n",
       "  <thead>\n",
       "    <tr style=\"text-align: right;\">\n",
       "      <th></th>\n",
       "      <th>0</th>\n",
       "      <th>1</th>\n",
       "      <th>2</th>\n",
       "      <th>3</th>\n",
       "      <th>4</th>\n",
       "    </tr>\n",
       "  </thead>\n",
       "  <tbody>\n",
       "    <tr>\n",
       "      <th>CID</th>\n",
       "      <td>1</td>\n",
       "      <td>2</td>\n",
       "      <td>3</td>\n",
       "      <td>4</td>\n",
       "      <td>5</td>\n",
       "    </tr>\n",
       "    <tr>\n",
       "      <th>MolecularFormula</th>\n",
       "      <td>C9H17NO4</td>\n",
       "      <td>C9H18NO4+</td>\n",
       "      <td>C7H8O4</td>\n",
       "      <td>C3H9NO</td>\n",
       "      <td>C3H8NO5P</td>\n",
       "    </tr>\n",
       "    <tr>\n",
       "      <th>MolecularWeight</th>\n",
       "      <td>203.24</td>\n",
       "      <td>204.24</td>\n",
       "      <td>156.14</td>\n",
       "      <td>75.11</td>\n",
       "      <td>169.07</td>\n",
       "    </tr>\n",
       "    <tr>\n",
       "      <th>InChIKey</th>\n",
       "      <td>RDHQFKQIGNGIED-UHFFFAOYSA-N</td>\n",
       "      <td>RDHQFKQIGNGIED-UHFFFAOYSA-O</td>\n",
       "      <td>INCSWYKICIYAHB-UHFFFAOYSA-N</td>\n",
       "      <td>HXKKHQJGJAFBHI-UHFFFAOYSA-N</td>\n",
       "      <td>HIQNVODXENYOFK-UHFFFAOYSA-N</td>\n",
       "    </tr>\n",
       "    <tr>\n",
       "      <th>IUPACName</th>\n",
       "      <td>3-acetyloxy-4-(trimethylazaniumyl)butanoate</td>\n",
       "      <td>(2-acetyloxy-3-carboxypropyl)-trimethylazanium</td>\n",
       "      <td>5,6-dihydroxycyclohexa-1,3-diene-1-carboxylic ...</td>\n",
       "      <td>1-aminopropan-2-ol</td>\n",
       "      <td>(3-amino-2-oxopropyl) dihydrogen phosphate</td>\n",
       "    </tr>\n",
       "  </tbody>\n",
       "</table>\n",
       "</div>"
      ],
      "text/plain": [
       "                                                            0  \\\n",
       "CID                                                         1   \n",
       "MolecularFormula                                     C9H17NO4   \n",
       "MolecularWeight                                        203.24   \n",
       "InChIKey                          RDHQFKQIGNGIED-UHFFFAOYSA-N   \n",
       "IUPACName         3-acetyloxy-4-(trimethylazaniumyl)butanoate   \n",
       "\n",
       "                                                               1  \\\n",
       "CID                                                            2   \n",
       "MolecularFormula                                       C9H18NO4+   \n",
       "MolecularWeight                                           204.24   \n",
       "InChIKey                             RDHQFKQIGNGIED-UHFFFAOYSA-O   \n",
       "IUPACName         (2-acetyloxy-3-carboxypropyl)-trimethylazanium   \n",
       "\n",
       "                                                                  2  \\\n",
       "CID                                                               3   \n",
       "MolecularFormula                                             C7H8O4   \n",
       "MolecularWeight                                              156.14   \n",
       "InChIKey                                INCSWYKICIYAHB-UHFFFAOYSA-N   \n",
       "IUPACName         5,6-dihydroxycyclohexa-1,3-diene-1-carboxylic ...   \n",
       "\n",
       "                                            3  \\\n",
       "CID                                         4   \n",
       "MolecularFormula                       C3H9NO   \n",
       "MolecularWeight                         75.11   \n",
       "InChIKey          HXKKHQJGJAFBHI-UHFFFAOYSA-N   \n",
       "IUPACName                  1-aminopropan-2-ol   \n",
       "\n",
       "                                                           4  \n",
       "CID                                                        5  \n",
       "MolecularFormula                                    C3H8NO5P  \n",
       "MolecularWeight                                       169.07  \n",
       "InChIKey                         HIQNVODXENYOFK-UHFFFAOYSA-N  \n",
       "IUPACName         (3-amino-2-oxopropyl) dihydrogen phosphate  "
      ]
     },
     "execution_count": 7,
     "metadata": {},
     "output_type": "execute_result"
    }
   ],
   "source": [
    "# transpose the DataFrame if desired\n",
    "mol_data2 = mol_data.transpose()\n",
    "mol_data2"
   ]
  }
 ],
 "metadata": {
  "kernelspec": {
   "display_name": "Python 3 (ipykernel)",
   "language": "python",
   "name": "python3"
  },
  "language_info": {
   "codemirror_mode": {
    "name": "ipython",
    "version": 3
   },
   "file_extension": ".py",
   "mimetype": "text/x-python",
   "name": "python",
   "nbconvert_exporter": "python",
   "pygments_lexer": "ipython3",
   "version": "3.9.7"
  }
 },
 "nbformat": 4,
 "nbformat_minor": 5
}
