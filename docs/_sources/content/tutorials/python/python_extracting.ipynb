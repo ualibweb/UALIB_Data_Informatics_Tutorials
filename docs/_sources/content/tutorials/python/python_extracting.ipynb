{
 "cells": [
  {
   "cell_type": "markdown",
   "id": "b7955985-98aa-48a0-91f2-5e99a9e7b27c",
   "metadata": {},
   "source": [
    "# ...in Python"
   ]
  },
  {
   "cell_type": "markdown",
   "id": "e1509f3a-9367-4cda-9d45-540b5b127e56",
   "metadata": {},
   "source": [
    "## Extracting Data in Python\n",
    "by TBD"
   ]
  },
  {
   "cell_type": "code",
   "execution_count": null,
   "id": "2e830ec4-6568-46dc-aea9-854ef331b02b",
   "metadata": {},
   "outputs": [],
   "source": []
  }
 ],
 "metadata": {
  "kernelspec": {
   "display_name": "Python 3 (ipykernel)",
   "language": "python",
   "name": "python3"
  },
  "language_info": {
   "codemirror_mode": {
    "name": "ipython",
    "version": 3
   },
   "file_extension": ".py",
   "mimetype": "text/x-python",
   "name": "python",
   "nbconvert_exporter": "python",
   "pygments_lexer": "ipython3",
   "version": "3.9.7"
  }
 },
 "nbformat": 4,
 "nbformat_minor": 5
}
